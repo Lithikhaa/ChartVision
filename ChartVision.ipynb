{
  "cells": [
    {
      "cell_type": "markdown",
      "metadata": {
        "colab_type": "text",
        "id": "view-in-github"
      },
      "source": [
        "<a href=\"https://colab.research.google.com/github/vis-nlp/ChartGemma/blob/main/Finetune_ChartGemma_on_ChartQA.ipynb\" target=\"_parent\"><img src=\"https://colab.research.google.com/assets/colab-badge.svg\" alt=\"Open In Colab\"/></a>"
      ]
    },
    {
      "cell_type": "markdown",
      "metadata": {
        "id": "mTmHRSOcB0Yt"
      },
      "source": [
        "# Installations"
      ]
    },
    {
      "cell_type": "code",
      "execution_count": null,
      "metadata": {
        "colab": {
          "base_uri": "https://localhost:8080/"
        },
        "id": "lSXVzQ5bBnxQ",
        "outputId": "340453d1-e979-4347-ca95-3b4ed4f70d46"
      },
      "outputs": [],
      "source": [
        "!pip install datasets"
      ]
    },
    {
      "cell_type": "code",
      "execution_count": null,
      "metadata": {
        "colab": {
          "base_uri": "https://localhost:8080/"
        },
        "id": "TO6YiYutB4M0",
        "outputId": "8fe8aa70-5864-4429-971a-37a3238a1100"
      },
      "outputs": [],
      "source": [
        "!pip install bitsandbytes-cuda112"
      ]
    },
    {
      "cell_type": "code",
      "execution_count": null,
      "metadata": {
        "colab": {
          "base_uri": "https://localhost:8080/"
        },
        "id": "E4brDk8RDQZV",
        "outputId": "295c90ab-14e7-4cfa-f767-967020a8c236"
      },
      "outputs": [],
      "source": [
        "!pip install bitsandbytes"
      ]
    },
    {
      "cell_type": "code",
      "execution_count": null,
      "metadata": {
        "colab": {
          "base_uri": "https://localhost:8080/"
        },
        "id": "M9sa6rwYDpJo",
        "outputId": "ec3f6181-d219-4980-c08e-630135585890"
      },
      "outputs": [],
      "source": [
        "!pip install accelerate"
      ]
    },
    {
      "cell_type": "code",
      "execution_count": null,
      "metadata": {
        "colab": {
          "base_uri": "https://localhost:8080/"
        },
        "id": "E2w8rRnQE6hA",
        "outputId": "b1f31aca-38e8-4c99-a2ca-39ad73ec650d"
      },
      "outputs": [],
      "source": [
        "!pip install peft"
      ]
    },
    {
      "cell_type": "code",
      "execution_count": null,
      "metadata": {
        "colab": {
          "base_uri": "https://localhost:8080/"
        },
        "id": "zNuMDxz9HBg9",
        "outputId": "2a228699-d6dc-4be7-90cb-50097dc781cd"
      },
      "outputs": [],
      "source": [
        "!pip install pytorch-lightning"
      ]
    },
    {
      "cell_type": "code",
      "execution_count": null,
      "metadata": {
        "colab": {
          "base_uri": "https://localhost:8080/"
        },
        "id": "hNcFvsPqHswU",
        "outputId": "2f04ea53-a76a-4e57-8ddd-ccb20b1925e8"
      },
      "outputs": [],
      "source": [
        "!pip install lightning"
      ]
    },
    {
      "cell_type": "markdown",
      "metadata": {
        "id": "nZ2PGd-EB58C"
      },
      "source": [
        "# Load Dataset"
      ]
    },
    {
      "cell_type": "code",
      "execution_count": null,
      "metadata": {
        "id": "MP-sYdmoB7Gt"
      },
      "outputs": [],
      "source": [
        "from datasets import load_dataset\n",
        "\n",
        "dataset = load_dataset(\"ahmed-masry/ChartQA\")"
      ]
    },
    {
      "cell_type": "code",
      "execution_count": null,
      "metadata": {
        "colab": {
          "base_uri": "https://localhost:8080/"
        },
        "id": "tcXgCblfB_Pe",
        "outputId": "15b5bccc-be1e-4752-a40a-19de63ecb115"
      },
      "outputs": [],
      "source": [
        "dataset"
      ]
    },
    {
      "cell_type": "markdown",
      "metadata": {
        "id": "8ZwwQnBNCN05"
      },
      "source": [
        "# Load Processor & Model"
      ]
    },
    {
      "cell_type": "code",
      "execution_count": null,
      "metadata": {
        "id": "2zWN10rrCBSP"
      },
      "outputs": [],
      "source": [
        "from transformers import AutoProcessor, PaliGemmaForConditionalGeneration, BitsAndBytesConfig\n",
        "processor = AutoProcessor.from_pretrained(\"lithi/Chartvision\")"
      ]
    },
    {
      "cell_type": "code",
      "execution_count": null,
      "metadata": {
        "id": "3C-tw-Ppdf2g"
      },
      "outputs": [],
      "source": [
        "processor"
      ]
    },
    {
      "cell_type": "markdown",
      "metadata": {
        "id": "tOTGOQPGceEH"
      },
      "source": [
        "As this model has 3 billion trainable parameters, that's going to have quite an impact on the amount of memory used. For reference, fine-tuning a model using the AdamW optimizer (which is often used to optimize neural networks) with mixed precision, you need about 18 times the amount of parameters in GB of GPU RAM which might be infeasible for many people.\n",
        "\n",
        "Luckily, some clever people came up with the LoRa method (LoRa is short for low-rank adapation). It allows to just freeze the existing weights and only train a couple of adapter layers on top of the base model. Hugging Face offers the separate PEFT library for easy use of LoRa, along with other Parameter-Efficient Fine-Tuning methods (that's where the name PEFT comes from).\n",
        "\n",
        "Moreover, one can not only freeze the existing base model but also quantize it (which means, shrinking down its size). A neural network's parameters are typically saved in either float32 (which means, 32 bits or 4 bytes are used to store each parameter value) or float16 (which means, 16 bits or half a byte - also called half precision). However, with some clever algorithms one can shrink each parameter to just 8 or 4 bits (half a byte!), without significant effect on final performance. Read all about it here: https://huggingface.co/blog/4bit-transformers-bitsandbytes.\n",
        "\n",
        "This means that we're going to shrink the size of the base ChartGemma model considerably using 4-bit quantization, and then only train a couple of adapter layers on top using LoRa (in float16). This idea of combining LoRa with quantization is called Q-LoRa and is the most memory friendly version.\n",
        "\n",
        "Of course, if you have the memory available, feel free to use full fine-tuning or LoRa without quantization! In case of full fine-tuning, the code snippet below instantiates the model with Flash Attention which considerably speeds up computations.\n",
        "\n",
        "There exist many forms of quantization, here we leverage the BitsAndBytes integration."
      ]
    },
    {
      "cell_type": "code",
      "execution_count": null,
      "metadata": {
        "colab": {
          "base_uri": "https://localhost:8080/",
          "height": 66,
          "referenced_widgets": [
            "2c982c0992464650ab3ea879c1eee295",
            "7a7a09e1fca64af3bf82a42c99c394ea",
            "1827a8c9906c4691aeb38ff4c8702d9d",
            "f7d1593e571545a98cac9b6189c88e57",
            "46efee89daba40a7a55f29d2661d7f00",
            "f232562efaff4f28bc44ab1cd311c2d0",
            "6c2285423e854faa8c17ba938ead6927",
            "5f9318b0679c43f3921ad88c11d926e2",
            "6e785dae11a9473cb19f556e58dc74a9",
            "2044aebe27934970a8a1a653084ad73a",
            "2c0cca16ab3e4383b3850d75d8ed0260"
          ]
        },
        "id": "NUB1B5iWCXai",
        "outputId": "d7126eec-5958-4b2d-d480-0b24d6523faf"
      },
      "outputs": [],
      "source": [
        "import torch\n",
        "USE_LORA = False\n",
        "USE_QLORA = True\n",
        "\n",
        "## Load model\n",
        "\n",
        "# Three options for training, from the lowest precision training to the highest precision training:\n",
        "# - QLora\n",
        "# - Standard Lora\n",
        "# - Full fine-tuning\n",
        "if USE_QLORA:\n",
        "    bnb_config = BitsAndBytesConfig(\n",
        "        load_in_4bit=True, bnb_4bit_quant_type=\"nf4\", bnb_4bit_compute_dtype=torch.float16\n",
        "    )\n",
        "    model = PaliGemmaForConditionalGeneration.from_pretrained(\n",
        "        'lithi/Chartvision',\n",
        "        torch_dtype=torch.float16,\n",
        "        quantization_config=bnb_config,\n",
        "    )\n",
        "elif USE_LORA:\n",
        "    model = PaliGemmaForConditionalGeneration.from_pretrained(\n",
        "        'lithi/Chartvision',\n",
        "        torch_dtype=torch.float16,\n",
        "    )\n",
        "else:\n",
        "    # for full fine-tuning, we can speed up the model using Flash Attention\n",
        "    # only available on certain devices, see https://github.com/Dao-AILab/flash-attention?tab=readme-ov-file#installation-and-features\n",
        "    model = PaliGemmaForConditionalGeneration.from_pretrained(\n",
        "        'lithi/Chartvision',\n",
        "        torch_dtype=torch.float16,\n",
        "        _attn_implementation=\"flash_attention_2\",\n",
        "    )\n",
        "    for param in model.vision_tower.parameters():\n",
        "       param.requires_grad = False\n",
        "\n",
        "    for param in model.multi_modal_projector.parameters():\n",
        "       param.requires_grad = False"
      ]
    },
    {
      "cell_type": "markdown",
      "metadata": {
        "id": "vkDJDEbFD77H"
      },
      "source": [
        "# Apply Peft"
      ]
    },
    {
      "cell_type": "markdown",
      "metadata": {
        "id": "PV0Hpzh2cSwS"
      },
      "source": [
        "After loading the base model, we're going to add LoRa adapter layers. We're going to only train these adapter layers (the base model is kept frozen).\n",
        "\n",
        "The difference here with other models are the layers at which we're going to add adapters (in PEFT this is called target_modules). This typically depends a bit on the model.\n",
        "\n",
        "Here, we will use the original find_all_linear_names function. It means that we're going to add adapters to all linear layers of the model (nn.Linear), except for the ones present in the vision encoder and multimodal projector. This means that we're mostly going to adapt the language model part of ChartGemma for our use case."
      ]
    },
    {
      "cell_type": "code",
      "execution_count": null,
      "metadata": {
        "id": "1cH4CGQjD9cl"
      },
      "outputs": [],
      "source": [
        "from peft import LoraConfig, prepare_model_for_kbit_training, get_peft_model\n",
        "\n",
        "\n",
        "def find_all_linear_names(model):\n",
        "    cls = torch.nn.Linear\n",
        "    lora_module_names = set()\n",
        "    multimodal_keywords = ['multi_modal_projector', 'vision_model']\n",
        "    for name, module in model.named_modules():\n",
        "        if any(mm_keyword in name for mm_keyword in multimodal_keywords):\n",
        "            continue\n",
        "        if isinstance(module, cls):\n",
        "            names = name.split('.')\n",
        "            lora_module_names.add(names[0] if len(names) == 1 else names[-1])\n",
        "\n",
        "    if 'lm_head' in lora_module_names: # needed for 16-bit\n",
        "        lora_module_names.remove('lm_head')\n",
        "    return list(lora_module_names)\n",
        "\n",
        "\n",
        "lora_config = LoraConfig(\n",
        "    r=8,\n",
        "    target_modules=[\"q_proj\", \"o_proj\", \"k_proj\", \"v_proj\", \"gate_proj\", \"up_proj\", \"down_proj\"],\n",
        "    task_type=\"CAUSAL_LM\",\n",
        ")\n",
        "\n",
        "model = prepare_model_for_kbit_training(model)\n",
        "model = get_peft_model(model, lora_config)"
      ]
    },
    {
      "cell_type": "code",
      "execution_count": null,
      "metadata": {
        "id": "CkDTetKsD-0F"
      },
      "outputs": [],
      "source": []
    },
    {
      "cell_type": "markdown",
      "metadata": {
        "id": "VUU2hqbIEV3I"
      },
      "source": [
        "# Create Pytorch Dataset"
      ]
    },
    {
      "cell_type": "code",
      "execution_count": null,
      "metadata": {
        "id": "SMNnoy9PEXn3"
      },
      "outputs": [],
      "source": [
        "from torch.utils.data import Dataset\n",
        "from typing import Any, Dict\n",
        "import random\n",
        "from PIL import Image\n",
        "from io import BytesIO\n",
        "\n",
        "class ChartGemmaDataset(Dataset):\n",
        "    \"\"\"\n",
        "    PyTorch Dataset for ChartGemma. This class takes a HuggingFace Dataset as input.\n",
        "\n",
        "    Each row, consists of image path(png/jpg/jpeg) and ground truth data (json/jsonl/txt).\n",
        "    \"\"\"\n",
        "\n",
        "    def __init__(\n",
        "        self,\n",
        "        dataset_name_or_path: str,\n",
        "        split: str = \"train\",\n",
        "    ):\n",
        "        super().__init__()\n",
        "\n",
        "        self.split = split\n",
        "        self.dataset = load_dataset(dataset_name_or_path, split=split)\n",
        "        self.dataset_length = len(self.dataset)\n",
        "\n",
        "    def __len__(self) -> int:\n",
        "        return self.dataset_length\n",
        "\n",
        "    def __getitem__(self, idx: int) -> Dict:\n",
        "        \"\"\"\n",
        "        Returns one item of the dataset.\n",
        "\n",
        "        Returns:\n",
        "            image : the original Receipt image\n",
        "            target_sequence : tokenized ground truth sequence\n",
        "        \"\"\"\n",
        "        sample = self.dataset[idx]\n",
        "\n",
        "        # inputs\n",
        "        image = Image.open(BytesIO(sample[\"image\"])).convert('RGB')\n",
        "        target_sequence = sample['label']\n",
        "        input_sequence = sample['query']\n",
        "        return image, input_sequence, target_sequence"
      ]
    },
    {
      "cell_type": "code",
      "execution_count": null,
      "metadata": {
        "id": "iXczUpDWFDc3"
      },
      "outputs": [],
      "source": [
        "train_dataset = ChartGemmaDataset(\"ahmed-masry/ChartQA\", split='train')\n",
        "val_dataset = ChartGemmaDataset(\"ahmed-masry/ChartQA\", split='val')"
      ]
    },
    {
      "cell_type": "code",
      "execution_count": null,
      "metadata": {
        "id": "ZgiVrtI_Fdzm"
      },
      "outputs": [],
      "source": []
    },
    {
      "cell_type": "markdown",
      "metadata": {
        "id": "FVhoNSyHFlRG"
      },
      "source": [
        "# Define collate functions"
      ]
    },
    {
      "cell_type": "code",
      "execution_count": null,
      "metadata": {
        "id": "YwqdPA_xFkwv"
      },
      "outputs": [],
      "source": [
        "def train_collate_fn(examples):\n",
        "    images = []\n",
        "    input_texts = []\n",
        "    outputs_texts = []\n",
        "    for example in examples:\n",
        "        image, input_text, output_text = example\n",
        "        images.append(image)\n",
        "        input_texts.append(input_text)\n",
        "        outputs_texts.append(output_text)\n",
        "\n",
        "    # Change the MX LENGTH depending on the task.\n",
        "    MAX_LENGTH = 128\n",
        "    inputs = processor(text=input_texts, images=images, suffix=outputs_texts, return_tensors=\"pt\", padding=True,\n",
        "                     truncation=\"only_second\", max_length=MAX_LENGTH,\n",
        "                     tokenize_newline_separately=False)\n",
        "\n",
        "    input_ids = inputs[\"input_ids\"]\n",
        "    token_type_ids = inputs[\"token_type_ids\"]\n",
        "    attention_mask = inputs[\"attention_mask\"]\n",
        "    pixel_values = inputs[\"pixel_values\"]\n",
        "    labels = inputs[\"labels\"]\n",
        "\n",
        "    return input_ids, token_type_ids, attention_mask, pixel_values, labels\n",
        "\n",
        "\n",
        "def eval_collate_fn(examples):\n",
        "    # we only feed the prompt to the model\n",
        "    images = []\n",
        "    texts = []\n",
        "    answers = []\n",
        "    for example in examples:\n",
        "        image, text, answer = example\n",
        "        images.append(image)\n",
        "        texts.append(text)\n",
        "        answers.append(answer)\n",
        "\n",
        "    inputs = processor(text=texts, images=images, return_tensors=\"pt\", padding=True, tokenize_newline_separately=False)\n",
        "\n",
        "    input_ids = inputs[\"input_ids\"]\n",
        "    attention_mask = inputs[\"attention_mask\"]\n",
        "    pixel_values = inputs[\"pixel_values\"]\n",
        "\n",
        "    return input_ids, attention_mask, pixel_values, answers"
      ]
    },
    {
      "cell_type": "markdown",
      "metadata": {
        "id": "ztr98C5IGYEZ"
      },
      "source": [
        "# Define Pytorch Lightening Module"
      ]
    },
    {
      "cell_type": "code",
      "execution_count": null,
      "metadata": {
        "id": "UKdlVxn3Fk35"
      },
      "outputs": [],
      "source": [
        "import lightning as L\n",
        "from torch.utils.data import DataLoader\n",
        "import re\n",
        "from nltk import edit_distance\n",
        "import numpy as np\n",
        "\n",
        "\n",
        "class ChartGemmaModelPLModule(L.LightningModule):\n",
        "    def __init__(self, config, processor, model):\n",
        "        super().__init__()\n",
        "        self.config = config\n",
        "        self.processor = processor\n",
        "        self.model = model\n",
        "        self.batch_size = config.get(\"batch_size\")\n",
        "\n",
        "    def training_step(self, batch, batch_idx):\n",
        "\n",
        "        input_ids, token_type_ids, attention_mask, pixel_values, labels = batch\n",
        "\n",
        "        outputs = self.model(input_ids=input_ids,\n",
        "                                attention_mask=attention_mask,\n",
        "                                token_type_ids=token_type_ids,\n",
        "                                pixel_values=pixel_values,\n",
        "                                labels=labels)\n",
        "        loss = outputs.loss\n",
        "\n",
        "        self.log(\"train_loss\", loss)\n",
        "\n",
        "        return loss\n",
        "\n",
        "    def compute_metric(self, gt, pred):\n",
        "      try:\n",
        "        gt = float(gt)\n",
        "        pred = float(pred)\n",
        "        return abs(gt - pred) / abs(gt) <= 0.05\n",
        "      except:\n",
        "        return str(gt).lower() == str(pred).lower()\n",
        "\n",
        "    def validation_step(self, batch, batch_idx, dataset_idx=0):\n",
        "\n",
        "        input_ids, attention_mask, pixel_values, answers = batch\n",
        "\n",
        "        # autoregressively generate token IDs\n",
        "        generated_ids = self.model.generate(input_ids=input_ids, attention_mask=attention_mask,\n",
        "                                       pixel_values=pixel_values, max_new_tokens=128)\n",
        "        # turn them back into text, chopping of the prompt\n",
        "        # important: we don't skip special tokens here, because we want to see them in the output\n",
        "        predictions = self.processor.batch_decode(generated_ids[:, input_ids.size(1):], skip_special_tokens=True)\n",
        "\n",
        "        scores = []\n",
        "        for pred, answer in zip(predictions, answers):\n",
        "            # pred = re.sub(r\"(?:(?<=>) | (?=</s_))\", \"\", pred)\n",
        "            correct = self.compute_metric(answer, pred.strip())\n",
        "            if correct:\n",
        "                scores.append(1)\n",
        "            else:\n",
        "                scores.append(0)\n",
        "\n",
        "            if self.config.get(\"verbose\", False) and len(scores) == 1:\n",
        "                print(f\"Prediction: {pred}\")\n",
        "                print(f\"    Answer: {answer}\")\n",
        "\n",
        "        self.log(\"val_relaxed_accuracy\", np.mean(scores))\n",
        "\n",
        "        return scores\n",
        "\n",
        "    def configure_optimizers(self):\n",
        "        # you could also add a learning rate scheduler if you want\n",
        "        optimizer = torch.optim.AdamW(self.parameters(), lr=self.config.get(\"lr\"))\n",
        "        return optimizer\n",
        "\n",
        "    def train_dataloader(self):\n",
        "        return DataLoader(train_dataset, collate_fn=train_collate_fn, batch_size=self.batch_size, shuffle=True, num_workers=2)\n",
        "\n",
        "    def val_dataloader(self):\n",
        "        return DataLoader(val_dataset, collate_fn=eval_collate_fn, batch_size=self.batch_size, shuffle=False, num_workers=2)"
      ]
    },
    {
      "cell_type": "code",
      "execution_count": null,
      "metadata": {
        "id": "aFU6lhxKG871"
      },
      "outputs": [],
      "source": [
        "config = {\"max_epochs\": 2,\n",
        "          # \"val_check_interval\": 0.2, # how many times we want to validate during an epoch\n",
        "          \"check_val_every_n_epoch\": 1,\n",
        "          \"gradient_clip_val\": 1.0,\n",
        "          \"accumulate_grad_batches\": 8,\n",
        "          \"lr\": 1e-4,\n",
        "          \"batch_size\": 1,\n",
        "          # \"seed\":2022,\n",
        "          \"num_nodes\": 1,\n",
        "          \"warmup_steps\": 50,\n",
        "          \"result_path\": \"./result\",\n",
        "          \"verbose\": True,\n",
        "}\n",
        "\n",
        "model_module = ChartGemmaModelPLModule(config, processor, model)"
      ]
    },
    {
      "cell_type": "code",
      "execution_count": null,
      "metadata": {
        "id": "0rLnPQF3HQJW"
      },
      "outputs": [],
      "source": []
    },
    {
      "cell_type": "markdown",
      "metadata": {
        "id": "qB5hi12NHVBN"
      },
      "source": [
        "# Train"
      ]
    },
    {
      "cell_type": "code",
      "execution_count": null,
      "metadata": {
        "colab": {
          "base_uri": "https://localhost:8080/",
          "height": 642,
          "referenced_widgets": [
            "94223833e70a456bb832565bf2af8ba5",
            "a6550ca253a74bca91b0de5cc1078a35",
            "772d2444c920491093c3edc5ae71c160",
            "a87c8a0a048c4b78b5a55db5e8794a9b",
            "6b253caa6ee4416c86e75835f15a9106",
            "3f9f92ae882e407b9ca4c769f09b3b4b",
            "070d68d5827d4a08918320ce8140a687",
            "4c89d8649a0b486ab37a4034833a02d2",
            "4733073f4c0c4b61ba22d4449a8a2c03",
            "f839b71068774f6a816988e3fb58aee6",
            "dc43c1b1ce314c2884c0dace3a4715c4"
          ]
        },
        "id": "kKbbnOmsHUyu",
        "outputId": "1cd1b55a-5d95-4ef4-a31b-13bf9fe480f6"
      },
      "outputs": [],
      "source": [
        "# from lightning.pytorch.loggers import WandbLogger\n",
        "# wandb_logger = WandbLogger(project=WANDB_PROJECT, name=WANDB_NAME)\n",
        "\n",
        "trainer = L.Trainer(\n",
        "        accelerator=\"gpu\",\n",
        "        devices=[0],\n",
        "        max_epochs=config.get(\"max_epochs\"),\n",
        "        accumulate_grad_batches=config.get(\"accumulate_grad_batches\"),\n",
        "        check_val_every_n_epoch=config.get(\"check_val_every_n_epoch\"),\n",
        "        gradient_clip_val=config.get(\"gradient_clip_val\"),\n",
        "        precision=\"16-mixed\",\n",
        "        num_sanity_val_steps=0,\n",
        "        # logger=wandb_logger,\n",
        ")\n",
        "\n",
        "trainer.fit(model_module)"
      ]
    },
    {
      "cell_type": "code",
      "execution_count": null,
      "metadata": {
        "id": "dMzPBFvPHa1S"
      },
      "outputs": [],
      "source": []
    },
    {
      "cell_type": "code",
      "execution_count": null,
      "metadata": {
        "colab": {
          "base_uri": "https://localhost:8080/"
        },
        "id": "AO49Z2mkIC-E",
        "outputId": "e67c5b29-d92f-4710-c555-60670aea65c6"
      },
      "outputs": [],
      "source": [
        "# Save Model locally\n",
        "model_module.model.save_pretrained('trained_model')\n",
        "model_module.processor.save_pretrained('trained_model')"
      ]
    },
    {
      "cell_type": "code",
      "execution_count": null,
      "metadata": {
        "id": "qpLsH_nIISr-"
      },
      "outputs": [],
      "source": []
    },
    {
      "cell_type": "markdown",
      "metadata": {
        "id": "gE-py2CqHylS"
      },
      "source": [
        "# Inference"
      ]
    },
    {
      "cell_type": "markdown",
      "metadata": {
        "id": "hkYNiG43c6cP"
      },
      "source": [
        "Let's see if the model has learned something. We'll load the model from the hub first. Notice that, as we only trained adapters on top of the base model, the repository on the hub to which we pushed only contains the weights and configuration of the adapters. This is a very lightweight file smaller than 100 MB.\n",
        "\n",
        "Thanks to the PEFT integration in Transformers, the from_pretrained method will automatically load the weights of the base model as well as the adapter weights.\n",
        "\n",
        "To reduce inference costs, we'll again load the model in 4 bits by passing a quantization_config, in order to reduce memory usage."
      ]
    },
    {
      "cell_type": "code",
      "execution_count": null,
      "metadata": {
        "id": "IsOH7yBgH5aK"
      },
      "outputs": [],
      "source": []
    },
    {
      "cell_type": "code",
      "execution_count": null,
      "metadata": {
        "colab": {
          "base_uri": "https://localhost:8080/",
          "height": 66,
          "referenced_widgets": [
            "e835b79dbaa442ff8b7556e41d564e57",
            "1d17e95b80984c73a50f8e17bede1822",
            "d9a3c072187f40139fbd09042bc49d47",
            "e8db9e348261404fbefbd1b4d59a553e",
            "880ad98c1be6411ca216c55eac3cad3c",
            "fbe78eb24e4d446295acb9dae64839ba",
            "2ea33938b3124b4bbe7d7af34cb690c1",
            "0ad7bf171ad14bb7ae7a87a5fa7fe911",
            "b03252f5d4eb44f8857f1b3c5299984a",
            "09d7dcd59bc34f8db0431ff3e7f8750b",
            "4b4e61a9f3744b908cd423c2f0cdaaeb"
          ]
        },
        "id": "4IlrlPYsH5so",
        "outputId": "4c08d5ac-b07c-4966-c7fb-c624f2740eda"
      },
      "outputs": [],
      "source": [
        "from transformers import AutoProcessor, BitsAndBytesConfig, PaliGemmaForConditionalGeneration\n",
        "import torch\n",
        "\n",
        "processor = AutoProcessor.from_pretrained('trained_model')\n",
        "\n",
        "# Define quantization config\n",
        "quantization_config = BitsAndBytesConfig(\n",
        "    load_in_4bit=True, bnb_4bit_quant_type=\"nf4\", bnb_4bit_compute_dtype=torch.float16\n",
        ")\n",
        "# Load the base model with adapters on top\n",
        "model = PaliGemmaForConditionalGeneration.from_pretrained(\n",
        "    'trained_model',\n",
        "    torch_dtype=torch.float16,\n",
        "    quantization_config=quantization_config,\n",
        ")"
      ]
    },
    {
      "cell_type": "code",
      "execution_count": null,
      "metadata": {
        "id": "Wwlx1M3IIeYg"
      },
      "outputs": [],
      "source": [
        "sample_idx = 1336"
      ]
    },
    {
      "cell_type": "code",
      "execution_count": null,
      "metadata": {
        "id": "YFVRq-feMaSl"
      },
      "outputs": [],
      "source": [
        "query = dataset[\"test\"][sample_idx]['query']"
      ]
    },
    {
      "cell_type": "code",
      "execution_count": null,
      "metadata": {
        "id": "pPGVuBc6IeWP"
      },
      "outputs": [],
      "source": [
        "# Load example\n",
        "from PIL import Image\n",
        "from io import BytesIO\n",
        "test_image = Image.open(BytesIO(dataset[\"test\"][sample_idx]['image'])).convert('RGB')\n",
        "prompt = query\n",
        "inputs = processor(text=prompt, images=[test_image], return_tensors=\"pt\").to(\"cuda\")"
      ]
    },
    {
      "cell_type": "code",
      "execution_count": null,
      "metadata": {
        "id": "aynfM6avMl2V"
      },
      "outputs": [],
      "source": [
        "inputs['pixel_values'] = inputs['pixel_values'].to(torch.float16)"
      ]
    },
    {
      "cell_type": "code",
      "execution_count": null,
      "metadata": {
        "id": "0OhlpiPNI_kl"
      },
      "outputs": [],
      "source": [
        "# Generate token IDs. Change the max_new_tokens based on your task.\n",
        "generated_ids = model.generate(**inputs, max_new_tokens=12)\n",
        "prompt_length = inputs['input_ids'].shape[1]\n",
        "\n",
        "# Decode back into text\n",
        "generated_texts = processor.batch_decode(generated_ids[:, prompt_length:], skip_special_tokens=True)"
      ]
    },
    {
      "cell_type": "code",
      "execution_count": null,
      "metadata": {
        "colab": {
          "base_uri": "https://localhost:8080/"
        },
        "id": "d-9d63lAJHHK",
        "outputId": "e6de1cf0-c88a-4718-d150-7366236571d9"
      },
      "outputs": [],
      "source": [
        "print(generated_texts)"
      ]
    },
    {
      "cell_type": "code",
      "execution_count": null,
      "metadata": {
        "colab": {
          "base_uri": "https://localhost:8080/"
        },
        "id": "DcOVphfrJJkG",
        "outputId": "27fd4274-211f-456b-e877-d7aa736b4324"
      },
      "outputs": [],
      "source": [
        "# Ground truth answer\n",
        "print(dataset[\"test\"][sample_idx]['label'])"
      ]
    },
    {
      "cell_type": "code",
      "execution_count": null,
      "metadata": {
        "id": "Q3IeFJqwMkKe"
      },
      "outputs": [],
      "source": [
        "from transformers import T5ForConditionalGeneration, VLT5ForConditionalGeneration, VisionTapasForQuestionAnswering\n",
        "import torch\n",
        "from safetensors.torch import save_file\n",
        "\n",
        "# Load LLM models\n",
        "t5_model = T5ForConditionalGeneration.from_pretrained(\"t5-large\")\n",
        "vlt5_model = VLT5ForConditionalGeneration.from_pretrained(\"vlt5-large\")\n",
        "vision_tapas_model = VisionTapasForQuestionAnswering.from_pretrained(\"google/vision-tapas-large\")\n",
        "\n",
        "# Load PaliGemma model.safetensors\n",
        "palligemma_weights = torch.load(\"./trained_model/\")\n",
        "\n",
        "# Assuming we have compatible architectures to combine, combine the models\n",
        "# This example concatenates model weights; you'll need to adjust this to match your specific architecture needs\n",
        "combined_weights = {\n",
        "    \"t5\": t5_model.state_dict(),\n",
        "    \"vlt5\": vlt5_model.state_dict(),\n",
        "    \"vision_tapas\": vision_tapas_model.state_dict(),\n",
        "    \"palligemma\": palligemma_weights\n",
        "}\n",
        "\n",
        "# Flatten and combine all weights into a single dictionary for easy saving\n",
        "flattened_weights = {}\n",
        "for prefix, weights in combined_weights.items():\n",
        "    for key, value in weights.items():\n",
        "        flattened_weights[f\"{prefix}.{key}\"] = value\n",
        "\n",
        "# Save the combined weights into three parts as .safetensors\n",
        "total_size = len(flattened_weights)\n",
        "split_size = total_size // 3\n",
        "\n",
        "# Create splits\n",
        "split_weights = [\n",
        "    {k: flattened_weights[k] for i, k in enumerate(flattened_weights) if i < split_size},\n",
        "    {k: flattened_weights[k] for i, k in enumerate(flattened_weights) if split_size <= i < 2 * split_size},\n",
        "    {k: flattened_weights[k] for i, k in enumerate(flattened_weights) if i >= 2 * split_size},\n",
        "]\n",
        "\n",
        "# Save each split to a separate .safetensors file\n",
        "save_file(split_weights[0], \"model-00001-of-00003.safetensors\")\n",
        "save_file(split_weights[1], \"model-00002-of-00003.safetensors\")\n",
        "save_file(split_weights[2], \"model-00003-of-00003.safetensors\")\n",
        "\n",
        "print(\"Models saved as three .safetensors files.\")\n"
      ]
    },
    {
      "cell_type": "code",
      "execution_count": null,
      "metadata": {
        "id": "FxKLwzC7R57v"
      },
      "outputs": [],
      "source": []
    },
    {
      "cell_type": "code",
      "execution_count": null,
      "metadata": {
        "colab": {
          "base_uri": "https://localhost:8080/"
        },
        "id": "U-QI7jAWoAfk",
        "outputId": "f5d6ff11-c265-4ae3-f8d5-1e3410205676"
      },
      "outputs": [],
      "source": []
    },
    {
      "cell_type": "code",
      "execution_count": null,
      "metadata": {
        "id": "ntRV5sNynLZL"
      },
      "outputs": [],
      "source": []
    },
    {
      "cell_type": "code",
      "execution_count": null,
      "metadata": {
        "id": "Cl0PZ12rnMb1"
      },
      "outputs": [],
      "source": []
    },
    {
      "cell_type": "code",
      "execution_count": null,
      "metadata": {
        "id": "Rm_C3tgxskJy"
      },
      "outputs": [],
      "source": []
    }
  ],
  "metadata": {
    "accelerator": "GPU",
    "colab": {
      "authorship_tag": "ABX9TyP7jHcKNpGeDw+cX81+aCp3",
      "gpuType": "L4",
      "include_colab_link": true,
      "provenance": []
    },
    "kernelspec": {
      "display_name": "Python 3",
      "name": "python3"
    },
    "language_info": {
      "codemirror_mode": {
        "name": "ipython",
        "version": 3
      },
      "file_extension": ".py",
      "mimetype": "text/x-python",
      "name": "python",
      "nbconvert_exporter": "python",
      "pygments_lexer": "ipython3",
      "version": "3.9.7"
    },
    "widgets": {
      "application/vnd.jupyter.widget-state+json": {
        "070d68d5827d4a08918320ce8140a687": {
          "model_module": "@jupyter-widgets/controls",
          "model_module_version": "1.5.0",
          "model_name": "DescriptionStyleModel",
          "state": {
            "_model_module": "@jupyter-widgets/controls",
            "_model_module_version": "1.5.0",
            "_model_name": "DescriptionStyleModel",
            "_view_count": null,
            "_view_module": "@jupyter-widgets/base",
            "_view_module_version": "1.2.0",
            "_view_name": "StyleView",
            "description_width": ""
          }
        },
        "09d7dcd59bc34f8db0431ff3e7f8750b": {
          "model_module": "@jupyter-widgets/base",
          "model_module_version": "1.2.0",
          "model_name": "LayoutModel",
          "state": {
            "_model_module": "@jupyter-widgets/base",
            "_model_module_version": "1.2.0",
            "_model_name": "LayoutModel",
            "_view_count": null,
            "_view_module": "@jupyter-widgets/base",
            "_view_module_version": "1.2.0",
            "_view_name": "LayoutView",
            "align_content": null,
            "align_items": null,
            "align_self": null,
            "border": null,
            "bottom": null,
            "display": null,
            "flex": null,
            "flex_flow": null,
            "grid_area": null,
            "grid_auto_columns": null,
            "grid_auto_flow": null,
            "grid_auto_rows": null,
            "grid_column": null,
            "grid_gap": null,
            "grid_row": null,
            "grid_template_areas": null,
            "grid_template_columns": null,
            "grid_template_rows": null,
            "height": null,
            "justify_content": null,
            "justify_items": null,
            "left": null,
            "margin": null,
            "max_height": null,
            "max_width": null,
            "min_height": null,
            "min_width": null,
            "object_fit": null,
            "object_position": null,
            "order": null,
            "overflow": null,
            "overflow_x": null,
            "overflow_y": null,
            "padding": null,
            "right": null,
            "top": null,
            "visibility": null,
            "width": null
          }
        },
        "0ad7bf171ad14bb7ae7a87a5fa7fe911": {
          "model_module": "@jupyter-widgets/base",
          "model_module_version": "1.2.0",
          "model_name": "LayoutModel",
          "state": {
            "_model_module": "@jupyter-widgets/base",
            "_model_module_version": "1.2.0",
            "_model_name": "LayoutModel",
            "_view_count": null,
            "_view_module": "@jupyter-widgets/base",
            "_view_module_version": "1.2.0",
            "_view_name": "LayoutView",
            "align_content": null,
            "align_items": null,
            "align_self": null,
            "border": null,
            "bottom": null,
            "display": null,
            "flex": null,
            "flex_flow": null,
            "grid_area": null,
            "grid_auto_columns": null,
            "grid_auto_flow": null,
            "grid_auto_rows": null,
            "grid_column": null,
            "grid_gap": null,
            "grid_row": null,
            "grid_template_areas": null,
            "grid_template_columns": null,
            "grid_template_rows": null,
            "height": null,
            "justify_content": null,
            "justify_items": null,
            "left": null,
            "margin": null,
            "max_height": null,
            "max_width": null,
            "min_height": null,
            "min_width": null,
            "object_fit": null,
            "object_position": null,
            "order": null,
            "overflow": null,
            "overflow_x": null,
            "overflow_y": null,
            "padding": null,
            "right": null,
            "top": null,
            "visibility": null,
            "width": null
          }
        },
        "1827a8c9906c4691aeb38ff4c8702d9d": {
          "model_module": "@jupyter-widgets/controls",
          "model_module_version": "1.5.0",
          "model_name": "FloatProgressModel",
          "state": {
            "_dom_classes": [],
            "_model_module": "@jupyter-widgets/controls",
            "_model_module_version": "1.5.0",
            "_model_name": "FloatProgressModel",
            "_view_count": null,
            "_view_module": "@jupyter-widgets/controls",
            "_view_module_version": "1.5.0",
            "_view_name": "ProgressView",
            "bar_style": "success",
            "description": "",
            "description_tooltip": null,
            "layout": "IPY_MODEL_5f9318b0679c43f3921ad88c11d926e2",
            "max": 3,
            "min": 0,
            "orientation": "horizontal",
            "style": "IPY_MODEL_6e785dae11a9473cb19f556e58dc74a9",
            "value": 3
          }
        },
        "1d17e95b80984c73a50f8e17bede1822": {
          "model_module": "@jupyter-widgets/controls",
          "model_module_version": "1.5.0",
          "model_name": "HTMLModel",
          "state": {
            "_dom_classes": [],
            "_model_module": "@jupyter-widgets/controls",
            "_model_module_version": "1.5.0",
            "_model_name": "HTMLModel",
            "_view_count": null,
            "_view_module": "@jupyter-widgets/controls",
            "_view_module_version": "1.5.0",
            "_view_name": "HTMLView",
            "description": "",
            "description_tooltip": null,
            "layout": "IPY_MODEL_fbe78eb24e4d446295acb9dae64839ba",
            "placeholder": "​",
            "style": "IPY_MODEL_2ea33938b3124b4bbe7d7af34cb690c1",
            "value": "Loading checkpoint shards: 100%"
          }
        },
        "2044aebe27934970a8a1a653084ad73a": {
          "model_module": "@jupyter-widgets/base",
          "model_module_version": "1.2.0",
          "model_name": "LayoutModel",
          "state": {
            "_model_module": "@jupyter-widgets/base",
            "_model_module_version": "1.2.0",
            "_model_name": "LayoutModel",
            "_view_count": null,
            "_view_module": "@jupyter-widgets/base",
            "_view_module_version": "1.2.0",
            "_view_name": "LayoutView",
            "align_content": null,
            "align_items": null,
            "align_self": null,
            "border": null,
            "bottom": null,
            "display": null,
            "flex": null,
            "flex_flow": null,
            "grid_area": null,
            "grid_auto_columns": null,
            "grid_auto_flow": null,
            "grid_auto_rows": null,
            "grid_column": null,
            "grid_gap": null,
            "grid_row": null,
            "grid_template_areas": null,
            "grid_template_columns": null,
            "grid_template_rows": null,
            "height": null,
            "justify_content": null,
            "justify_items": null,
            "left": null,
            "margin": null,
            "max_height": null,
            "max_width": null,
            "min_height": null,
            "min_width": null,
            "object_fit": null,
            "object_position": null,
            "order": null,
            "overflow": null,
            "overflow_x": null,
            "overflow_y": null,
            "padding": null,
            "right": null,
            "top": null,
            "visibility": null,
            "width": null
          }
        },
        "2c0cca16ab3e4383b3850d75d8ed0260": {
          "model_module": "@jupyter-widgets/controls",
          "model_module_version": "1.5.0",
          "model_name": "DescriptionStyleModel",
          "state": {
            "_model_module": "@jupyter-widgets/controls",
            "_model_module_version": "1.5.0",
            "_model_name": "DescriptionStyleModel",
            "_view_count": null,
            "_view_module": "@jupyter-widgets/base",
            "_view_module_version": "1.2.0",
            "_view_name": "StyleView",
            "description_width": ""
          }
        },
        "2c982c0992464650ab3ea879c1eee295": {
          "model_module": "@jupyter-widgets/controls",
          "model_module_version": "1.5.0",
          "model_name": "HBoxModel",
          "state": {
            "_dom_classes": [],
            "_model_module": "@jupyter-widgets/controls",
            "_model_module_version": "1.5.0",
            "_model_name": "HBoxModel",
            "_view_count": null,
            "_view_module": "@jupyter-widgets/controls",
            "_view_module_version": "1.5.0",
            "_view_name": "HBoxView",
            "box_style": "",
            "children": [
              "IPY_MODEL_7a7a09e1fca64af3bf82a42c99c394ea",
              "IPY_MODEL_1827a8c9906c4691aeb38ff4c8702d9d",
              "IPY_MODEL_f7d1593e571545a98cac9b6189c88e57"
            ],
            "layout": "IPY_MODEL_46efee89daba40a7a55f29d2661d7f00"
          }
        },
        "2ea33938b3124b4bbe7d7af34cb690c1": {
          "model_module": "@jupyter-widgets/controls",
          "model_module_version": "1.5.0",
          "model_name": "DescriptionStyleModel",
          "state": {
            "_model_module": "@jupyter-widgets/controls",
            "_model_module_version": "1.5.0",
            "_model_name": "DescriptionStyleModel",
            "_view_count": null,
            "_view_module": "@jupyter-widgets/base",
            "_view_module_version": "1.2.0",
            "_view_name": "StyleView",
            "description_width": ""
          }
        },
        "3f9f92ae882e407b9ca4c769f09b3b4b": {
          "model_module": "@jupyter-widgets/base",
          "model_module_version": "1.2.0",
          "model_name": "LayoutModel",
          "state": {
            "_model_module": "@jupyter-widgets/base",
            "_model_module_version": "1.2.0",
            "_model_name": "LayoutModel",
            "_view_count": null,
            "_view_module": "@jupyter-widgets/base",
            "_view_module_version": "1.2.0",
            "_view_name": "LayoutView",
            "align_content": null,
            "align_items": null,
            "align_self": null,
            "border": null,
            "bottom": null,
            "display": null,
            "flex": null,
            "flex_flow": null,
            "grid_area": null,
            "grid_auto_columns": null,
            "grid_auto_flow": null,
            "grid_auto_rows": null,
            "grid_column": null,
            "grid_gap": null,
            "grid_row": null,
            "grid_template_areas": null,
            "grid_template_columns": null,
            "grid_template_rows": null,
            "height": null,
            "justify_content": null,
            "justify_items": null,
            "left": null,
            "margin": null,
            "max_height": null,
            "max_width": null,
            "min_height": null,
            "min_width": null,
            "object_fit": null,
            "object_position": null,
            "order": null,
            "overflow": null,
            "overflow_x": null,
            "overflow_y": null,
            "padding": null,
            "right": null,
            "top": null,
            "visibility": null,
            "width": null
          }
        },
        "46efee89daba40a7a55f29d2661d7f00": {
          "model_module": "@jupyter-widgets/base",
          "model_module_version": "1.2.0",
          "model_name": "LayoutModel",
          "state": {
            "_model_module": "@jupyter-widgets/base",
            "_model_module_version": "1.2.0",
            "_model_name": "LayoutModel",
            "_view_count": null,
            "_view_module": "@jupyter-widgets/base",
            "_view_module_version": "1.2.0",
            "_view_name": "LayoutView",
            "align_content": null,
            "align_items": null,
            "align_self": null,
            "border": null,
            "bottom": null,
            "display": null,
            "flex": null,
            "flex_flow": null,
            "grid_area": null,
            "grid_auto_columns": null,
            "grid_auto_flow": null,
            "grid_auto_rows": null,
            "grid_column": null,
            "grid_gap": null,
            "grid_row": null,
            "grid_template_areas": null,
            "grid_template_columns": null,
            "grid_template_rows": null,
            "height": null,
            "justify_content": null,
            "justify_items": null,
            "left": null,
            "margin": null,
            "max_height": null,
            "max_width": null,
            "min_height": null,
            "min_width": null,
            "object_fit": null,
            "object_position": null,
            "order": null,
            "overflow": null,
            "overflow_x": null,
            "overflow_y": null,
            "padding": null,
            "right": null,
            "top": null,
            "visibility": null,
            "width": null
          }
        },
        "4733073f4c0c4b61ba22d4449a8a2c03": {
          "model_module": "@jupyter-widgets/controls",
          "model_module_version": "1.5.0",
          "model_name": "ProgressStyleModel",
          "state": {
            "_model_module": "@jupyter-widgets/controls",
            "_model_module_version": "1.5.0",
            "_model_name": "ProgressStyleModel",
            "_view_count": null,
            "_view_module": "@jupyter-widgets/base",
            "_view_module_version": "1.2.0",
            "_view_name": "StyleView",
            "bar_color": null,
            "description_width": ""
          }
        },
        "4b4e61a9f3744b908cd423c2f0cdaaeb": {
          "model_module": "@jupyter-widgets/controls",
          "model_module_version": "1.5.0",
          "model_name": "DescriptionStyleModel",
          "state": {
            "_model_module": "@jupyter-widgets/controls",
            "_model_module_version": "1.5.0",
            "_model_name": "DescriptionStyleModel",
            "_view_count": null,
            "_view_module": "@jupyter-widgets/base",
            "_view_module_version": "1.2.0",
            "_view_name": "StyleView",
            "description_width": ""
          }
        },
        "4c89d8649a0b486ab37a4034833a02d2": {
          "model_module": "@jupyter-widgets/base",
          "model_module_version": "1.2.0",
          "model_name": "LayoutModel",
          "state": {
            "_model_module": "@jupyter-widgets/base",
            "_model_module_version": "1.2.0",
            "_model_name": "LayoutModel",
            "_view_count": null,
            "_view_module": "@jupyter-widgets/base",
            "_view_module_version": "1.2.0",
            "_view_name": "LayoutView",
            "align_content": null,
            "align_items": null,
            "align_self": null,
            "border": null,
            "bottom": null,
            "display": null,
            "flex": "2",
            "flex_flow": null,
            "grid_area": null,
            "grid_auto_columns": null,
            "grid_auto_flow": null,
            "grid_auto_rows": null,
            "grid_column": null,
            "grid_gap": null,
            "grid_row": null,
            "grid_template_areas": null,
            "grid_template_columns": null,
            "grid_template_rows": null,
            "height": null,
            "justify_content": null,
            "justify_items": null,
            "left": null,
            "margin": null,
            "max_height": null,
            "max_width": null,
            "min_height": null,
            "min_width": null,
            "object_fit": null,
            "object_position": null,
            "order": null,
            "overflow": null,
            "overflow_x": null,
            "overflow_y": null,
            "padding": null,
            "right": null,
            "top": null,
            "visibility": null,
            "width": null
          }
        },
        "5f9318b0679c43f3921ad88c11d926e2": {
          "model_module": "@jupyter-widgets/base",
          "model_module_version": "1.2.0",
          "model_name": "LayoutModel",
          "state": {
            "_model_module": "@jupyter-widgets/base",
            "_model_module_version": "1.2.0",
            "_model_name": "LayoutModel",
            "_view_count": null,
            "_view_module": "@jupyter-widgets/base",
            "_view_module_version": "1.2.0",
            "_view_name": "LayoutView",
            "align_content": null,
            "align_items": null,
            "align_self": null,
            "border": null,
            "bottom": null,
            "display": null,
            "flex": null,
            "flex_flow": null,
            "grid_area": null,
            "grid_auto_columns": null,
            "grid_auto_flow": null,
            "grid_auto_rows": null,
            "grid_column": null,
            "grid_gap": null,
            "grid_row": null,
            "grid_template_areas": null,
            "grid_template_columns": null,
            "grid_template_rows": null,
            "height": null,
            "justify_content": null,
            "justify_items": null,
            "left": null,
            "margin": null,
            "max_height": null,
            "max_width": null,
            "min_height": null,
            "min_width": null,
            "object_fit": null,
            "object_position": null,
            "order": null,
            "overflow": null,
            "overflow_x": null,
            "overflow_y": null,
            "padding": null,
            "right": null,
            "top": null,
            "visibility": null,
            "width": null
          }
        },
        "6b253caa6ee4416c86e75835f15a9106": {
          "model_module": "@jupyter-widgets/base",
          "model_module_version": "1.2.0",
          "model_name": "LayoutModel",
          "state": {
            "_model_module": "@jupyter-widgets/base",
            "_model_module_version": "1.2.0",
            "_model_name": "LayoutModel",
            "_view_count": null,
            "_view_module": "@jupyter-widgets/base",
            "_view_module_version": "1.2.0",
            "_view_name": "LayoutView",
            "align_content": null,
            "align_items": null,
            "align_self": null,
            "border": null,
            "bottom": null,
            "display": "inline-flex",
            "flex": null,
            "flex_flow": "row wrap",
            "grid_area": null,
            "grid_auto_columns": null,
            "grid_auto_flow": null,
            "grid_auto_rows": null,
            "grid_column": null,
            "grid_gap": null,
            "grid_row": null,
            "grid_template_areas": null,
            "grid_template_columns": null,
            "grid_template_rows": null,
            "height": null,
            "justify_content": null,
            "justify_items": null,
            "left": null,
            "margin": null,
            "max_height": null,
            "max_width": null,
            "min_height": null,
            "min_width": null,
            "object_fit": null,
            "object_position": null,
            "order": null,
            "overflow": null,
            "overflow_x": null,
            "overflow_y": null,
            "padding": null,
            "right": null,
            "top": null,
            "visibility": null,
            "width": "100%"
          }
        },
        "6c2285423e854faa8c17ba938ead6927": {
          "model_module": "@jupyter-widgets/controls",
          "model_module_version": "1.5.0",
          "model_name": "DescriptionStyleModel",
          "state": {
            "_model_module": "@jupyter-widgets/controls",
            "_model_module_version": "1.5.0",
            "_model_name": "DescriptionStyleModel",
            "_view_count": null,
            "_view_module": "@jupyter-widgets/base",
            "_view_module_version": "1.2.0",
            "_view_name": "StyleView",
            "description_width": ""
          }
        },
        "6e785dae11a9473cb19f556e58dc74a9": {
          "model_module": "@jupyter-widgets/controls",
          "model_module_version": "1.5.0",
          "model_name": "ProgressStyleModel",
          "state": {
            "_model_module": "@jupyter-widgets/controls",
            "_model_module_version": "1.5.0",
            "_model_name": "ProgressStyleModel",
            "_view_count": null,
            "_view_module": "@jupyter-widgets/base",
            "_view_module_version": "1.2.0",
            "_view_name": "StyleView",
            "bar_color": null,
            "description_width": ""
          }
        },
        "772d2444c920491093c3edc5ae71c160": {
          "model_module": "@jupyter-widgets/controls",
          "model_module_version": "1.5.0",
          "model_name": "FloatProgressModel",
          "state": {
            "_dom_classes": [],
            "_model_module": "@jupyter-widgets/controls",
            "_model_module_version": "1.5.0",
            "_model_name": "FloatProgressModel",
            "_view_count": null,
            "_view_module": "@jupyter-widgets/controls",
            "_view_module_version": "1.5.0",
            "_view_name": "ProgressView",
            "bar_style": "",
            "description": "",
            "description_tooltip": null,
            "layout": "IPY_MODEL_4c89d8649a0b486ab37a4034833a02d2",
            "max": 28299,
            "min": 0,
            "orientation": "horizontal",
            "style": "IPY_MODEL_4733073f4c0c4b61ba22d4449a8a2c03",
            "value": 1240
          }
        },
        "7a7a09e1fca64af3bf82a42c99c394ea": {
          "model_module": "@jupyter-widgets/controls",
          "model_module_version": "1.5.0",
          "model_name": "HTMLModel",
          "state": {
            "_dom_classes": [],
            "_model_module": "@jupyter-widgets/controls",
            "_model_module_version": "1.5.0",
            "_model_name": "HTMLModel",
            "_view_count": null,
            "_view_module": "@jupyter-widgets/controls",
            "_view_module_version": "1.5.0",
            "_view_name": "HTMLView",
            "description": "",
            "description_tooltip": null,
            "layout": "IPY_MODEL_f232562efaff4f28bc44ab1cd311c2d0",
            "placeholder": "​",
            "style": "IPY_MODEL_6c2285423e854faa8c17ba938ead6927",
            "value": "Loading checkpoint shards: 100%"
          }
        },
        "880ad98c1be6411ca216c55eac3cad3c": {
          "model_module": "@jupyter-widgets/base",
          "model_module_version": "1.2.0",
          "model_name": "LayoutModel",
          "state": {
            "_model_module": "@jupyter-widgets/base",
            "_model_module_version": "1.2.0",
            "_model_name": "LayoutModel",
            "_view_count": null,
            "_view_module": "@jupyter-widgets/base",
            "_view_module_version": "1.2.0",
            "_view_name": "LayoutView",
            "align_content": null,
            "align_items": null,
            "align_self": null,
            "border": null,
            "bottom": null,
            "display": null,
            "flex": null,
            "flex_flow": null,
            "grid_area": null,
            "grid_auto_columns": null,
            "grid_auto_flow": null,
            "grid_auto_rows": null,
            "grid_column": null,
            "grid_gap": null,
            "grid_row": null,
            "grid_template_areas": null,
            "grid_template_columns": null,
            "grid_template_rows": null,
            "height": null,
            "justify_content": null,
            "justify_items": null,
            "left": null,
            "margin": null,
            "max_height": null,
            "max_width": null,
            "min_height": null,
            "min_width": null,
            "object_fit": null,
            "object_position": null,
            "order": null,
            "overflow": null,
            "overflow_x": null,
            "overflow_y": null,
            "padding": null,
            "right": null,
            "top": null,
            "visibility": null,
            "width": null
          }
        },
        "94223833e70a456bb832565bf2af8ba5": {
          "model_module": "@jupyter-widgets/controls",
          "model_module_version": "1.5.0",
          "model_name": "HBoxModel",
          "state": {
            "_dom_classes": [],
            "_model_module": "@jupyter-widgets/controls",
            "_model_module_version": "1.5.0",
            "_model_name": "HBoxModel",
            "_view_count": null,
            "_view_module": "@jupyter-widgets/controls",
            "_view_module_version": "1.5.0",
            "_view_name": "HBoxView",
            "box_style": "",
            "children": [
              "IPY_MODEL_a6550ca253a74bca91b0de5cc1078a35",
              "IPY_MODEL_772d2444c920491093c3edc5ae71c160",
              "IPY_MODEL_a87c8a0a048c4b78b5a55db5e8794a9b"
            ],
            "layout": "IPY_MODEL_6b253caa6ee4416c86e75835f15a9106"
          }
        },
        "a6550ca253a74bca91b0de5cc1078a35": {
          "model_module": "@jupyter-widgets/controls",
          "model_module_version": "1.5.0",
          "model_name": "HTMLModel",
          "state": {
            "_dom_classes": [],
            "_model_module": "@jupyter-widgets/controls",
            "_model_module_version": "1.5.0",
            "_model_name": "HTMLModel",
            "_view_count": null,
            "_view_module": "@jupyter-widgets/controls",
            "_view_module_version": "1.5.0",
            "_view_name": "HTMLView",
            "description": "",
            "description_tooltip": null,
            "layout": "IPY_MODEL_3f9f92ae882e407b9ca4c769f09b3b4b",
            "placeholder": "​",
            "style": "IPY_MODEL_070d68d5827d4a08918320ce8140a687",
            "value": "Epoch 0:   4%"
          }
        },
        "a87c8a0a048c4b78b5a55db5e8794a9b": {
          "model_module": "@jupyter-widgets/controls",
          "model_module_version": "1.5.0",
          "model_name": "HTMLModel",
          "state": {
            "_dom_classes": [],
            "_model_module": "@jupyter-widgets/controls",
            "_model_module_version": "1.5.0",
            "_model_name": "HTMLModel",
            "_view_count": null,
            "_view_module": "@jupyter-widgets/controls",
            "_view_module_version": "1.5.0",
            "_view_name": "HTMLView",
            "description": "",
            "description_tooltip": null,
            "layout": "IPY_MODEL_f839b71068774f6a816988e3fb58aee6",
            "placeholder": "​",
            "style": "IPY_MODEL_dc43c1b1ce314c2884c0dace3a4715c4",
            "value": " 1240/28299 [22:13&lt;8:04:52,  0.93it/s, v_num=3]"
          }
        },
        "b03252f5d4eb44f8857f1b3c5299984a": {
          "model_module": "@jupyter-widgets/controls",
          "model_module_version": "1.5.0",
          "model_name": "ProgressStyleModel",
          "state": {
            "_model_module": "@jupyter-widgets/controls",
            "_model_module_version": "1.5.0",
            "_model_name": "ProgressStyleModel",
            "_view_count": null,
            "_view_module": "@jupyter-widgets/base",
            "_view_module_version": "1.2.0",
            "_view_name": "StyleView",
            "bar_color": null,
            "description_width": ""
          }
        },
        "d9a3c072187f40139fbd09042bc49d47": {
          "model_module": "@jupyter-widgets/controls",
          "model_module_version": "1.5.0",
          "model_name": "FloatProgressModel",
          "state": {
            "_dom_classes": [],
            "_model_module": "@jupyter-widgets/controls",
            "_model_module_version": "1.5.0",
            "_model_name": "FloatProgressModel",
            "_view_count": null,
            "_view_module": "@jupyter-widgets/controls",
            "_view_module_version": "1.5.0",
            "_view_name": "ProgressView",
            "bar_style": "success",
            "description": "",
            "description_tooltip": null,
            "layout": "IPY_MODEL_0ad7bf171ad14bb7ae7a87a5fa7fe911",
            "max": 3,
            "min": 0,
            "orientation": "horizontal",
            "style": "IPY_MODEL_b03252f5d4eb44f8857f1b3c5299984a",
            "value": 3
          }
        },
        "dc43c1b1ce314c2884c0dace3a4715c4": {
          "model_module": "@jupyter-widgets/controls",
          "model_module_version": "1.5.0",
          "model_name": "DescriptionStyleModel",
          "state": {
            "_model_module": "@jupyter-widgets/controls",
            "_model_module_version": "1.5.0",
            "_model_name": "DescriptionStyleModel",
            "_view_count": null,
            "_view_module": "@jupyter-widgets/base",
            "_view_module_version": "1.2.0",
            "_view_name": "StyleView",
            "description_width": ""
          }
        },
        "e835b79dbaa442ff8b7556e41d564e57": {
          "model_module": "@jupyter-widgets/controls",
          "model_module_version": "1.5.0",
          "model_name": "HBoxModel",
          "state": {
            "_dom_classes": [],
            "_model_module": "@jupyter-widgets/controls",
            "_model_module_version": "1.5.0",
            "_model_name": "HBoxModel",
            "_view_count": null,
            "_view_module": "@jupyter-widgets/controls",
            "_view_module_version": "1.5.0",
            "_view_name": "HBoxView",
            "box_style": "",
            "children": [
              "IPY_MODEL_1d17e95b80984c73a50f8e17bede1822",
              "IPY_MODEL_d9a3c072187f40139fbd09042bc49d47",
              "IPY_MODEL_e8db9e348261404fbefbd1b4d59a553e"
            ],
            "layout": "IPY_MODEL_880ad98c1be6411ca216c55eac3cad3c"
          }
        },
        "e8db9e348261404fbefbd1b4d59a553e": {
          "model_module": "@jupyter-widgets/controls",
          "model_module_version": "1.5.0",
          "model_name": "HTMLModel",
          "state": {
            "_dom_classes": [],
            "_model_module": "@jupyter-widgets/controls",
            "_model_module_version": "1.5.0",
            "_model_name": "HTMLModel",
            "_view_count": null,
            "_view_module": "@jupyter-widgets/controls",
            "_view_module_version": "1.5.0",
            "_view_name": "HTMLView",
            "description": "",
            "description_tooltip": null,
            "layout": "IPY_MODEL_09d7dcd59bc34f8db0431ff3e7f8750b",
            "placeholder": "​",
            "style": "IPY_MODEL_4b4e61a9f3744b908cd423c2f0cdaaeb",
            "value": " 3/3 [00:04&lt;00:00,  1.24s/it]"
          }
        },
        "f232562efaff4f28bc44ab1cd311c2d0": {
          "model_module": "@jupyter-widgets/base",
          "model_module_version": "1.2.0",
          "model_name": "LayoutModel",
          "state": {
            "_model_module": "@jupyter-widgets/base",
            "_model_module_version": "1.2.0",
            "_model_name": "LayoutModel",
            "_view_count": null,
            "_view_module": "@jupyter-widgets/base",
            "_view_module_version": "1.2.0",
            "_view_name": "LayoutView",
            "align_content": null,
            "align_items": null,
            "align_self": null,
            "border": null,
            "bottom": null,
            "display": null,
            "flex": null,
            "flex_flow": null,
            "grid_area": null,
            "grid_auto_columns": null,
            "grid_auto_flow": null,
            "grid_auto_rows": null,
            "grid_column": null,
            "grid_gap": null,
            "grid_row": null,
            "grid_template_areas": null,
            "grid_template_columns": null,
            "grid_template_rows": null,
            "height": null,
            "justify_content": null,
            "justify_items": null,
            "left": null,
            "margin": null,
            "max_height": null,
            "max_width": null,
            "min_height": null,
            "min_width": null,
            "object_fit": null,
            "object_position": null,
            "order": null,
            "overflow": null,
            "overflow_x": null,
            "overflow_y": null,
            "padding": null,
            "right": null,
            "top": null,
            "visibility": null,
            "width": null
          }
        },
        "f7d1593e571545a98cac9b6189c88e57": {
          "model_module": "@jupyter-widgets/controls",
          "model_module_version": "1.5.0",
          "model_name": "HTMLModel",
          "state": {
            "_dom_classes": [],
            "_model_module": "@jupyter-widgets/controls",
            "_model_module_version": "1.5.0",
            "_model_name": "HTMLModel",
            "_view_count": null,
            "_view_module": "@jupyter-widgets/controls",
            "_view_module_version": "1.5.0",
            "_view_name": "HTMLView",
            "description": "",
            "description_tooltip": null,
            "layout": "IPY_MODEL_2044aebe27934970a8a1a653084ad73a",
            "placeholder": "​",
            "style": "IPY_MODEL_2c0cca16ab3e4383b3850d75d8ed0260",
            "value": " 3/3 [00:03&lt;00:00,  1.21s/it]"
          }
        },
        "f839b71068774f6a816988e3fb58aee6": {
          "model_module": "@jupyter-widgets/base",
          "model_module_version": "1.2.0",
          "model_name": "LayoutModel",
          "state": {
            "_model_module": "@jupyter-widgets/base",
            "_model_module_version": "1.2.0",
            "_model_name": "LayoutModel",
            "_view_count": null,
            "_view_module": "@jupyter-widgets/base",
            "_view_module_version": "1.2.0",
            "_view_name": "LayoutView",
            "align_content": null,
            "align_items": null,
            "align_self": null,
            "border": null,
            "bottom": null,
            "display": null,
            "flex": null,
            "flex_flow": null,
            "grid_area": null,
            "grid_auto_columns": null,
            "grid_auto_flow": null,
            "grid_auto_rows": null,
            "grid_column": null,
            "grid_gap": null,
            "grid_row": null,
            "grid_template_areas": null,
            "grid_template_columns": null,
            "grid_template_rows": null,
            "height": null,
            "justify_content": null,
            "justify_items": null,
            "left": null,
            "margin": null,
            "max_height": null,
            "max_width": null,
            "min_height": null,
            "min_width": null,
            "object_fit": null,
            "object_position": null,
            "order": null,
            "overflow": null,
            "overflow_x": null,
            "overflow_y": null,
            "padding": null,
            "right": null,
            "top": null,
            "visibility": null,
            "width": null
          }
        },
        "fbe78eb24e4d446295acb9dae64839ba": {
          "model_module": "@jupyter-widgets/base",
          "model_module_version": "1.2.0",
          "model_name": "LayoutModel",
          "state": {
            "_model_module": "@jupyter-widgets/base",
            "_model_module_version": "1.2.0",
            "_model_name": "LayoutModel",
            "_view_count": null,
            "_view_module": "@jupyter-widgets/base",
            "_view_module_version": "1.2.0",
            "_view_name": "LayoutView",
            "align_content": null,
            "align_items": null,
            "align_self": null,
            "border": null,
            "bottom": null,
            "display": null,
            "flex": null,
            "flex_flow": null,
            "grid_area": null,
            "grid_auto_columns": null,
            "grid_auto_flow": null,
            "grid_auto_rows": null,
            "grid_column": null,
            "grid_gap": null,
            "grid_row": null,
            "grid_template_areas": null,
            "grid_template_columns": null,
            "grid_template_rows": null,
            "height": null,
            "justify_content": null,
            "justify_items": null,
            "left": null,
            "margin": null,
            "max_height": null,
            "max_width": null,
            "min_height": null,
            "min_width": null,
            "object_fit": null,
            "object_position": null,
            "order": null,
            "overflow": null,
            "overflow_x": null,
            "overflow_y": null,
            "padding": null,
            "right": null,
            "top": null,
            "visibility": null,
            "width": null
          }
        }
      }
    }
  },
  "nbformat": 4,
  "nbformat_minor": 0
}
