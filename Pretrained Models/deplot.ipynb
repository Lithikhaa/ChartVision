{
  "nbformat": 4,
  "nbformat_minor": 0,
  "metadata": {
    "colab": {
      "provenance": []
    },
    "kernelspec": {
      "name": "python3",
      "display_name": "Python 3"
    },
    "language_info": {
      "name": "python"
    }
  },
  "cells": [
    {
      "cell_type": "code",
      "execution_count": null,
      "metadata": {
        "colab": {
          "base_uri": "https://localhost:8080/"
        },
        "id": "8h-PANniacZd",
        "outputId": "5d3c5b3c-5380-4458-9534-c7f3e331b86a"
      },
      "outputs": [
        {
          "output_type": "stream",
          "name": "stdout",
          "text": [
            "Entity | Individuals <0x0A> median | 39 <0x0A> Germany | 57 <0x0A> UK | 45 <0x0A> Sweden | 37 <0x0A> Denmark | 42 <0x0A> France | 38 <0x0A> Netherla nds | 40 <0x0A> Spain | 29 <0x0A> Italy | 22\n"
          ]
        }
      ],
      "source": [
        "from transformers import Pix2StructProcessor, Pix2StructForConditionalGeneration\n",
        "import requests\n",
        "from PIL import Image\n",
        "\n",
        "processor = Pix2StructProcessor.from_pretrained('google/deplot')\n",
        "model = Pix2StructForConditionalGeneration.from_pretrained('google/deplot')\n",
        "\n",
        "url = \"https://raw.githubusercontent.com/vis-nlp/ChartQA/main/ChartQA%20Dataset/val/png/5090.png\"\n",
        "image = Image.open(requests.get(url, stream=True).raw)\n",
        "\n",
        "inputs = processor(images=image, text=\"Summarize\", return_tensors=\"pt\")\n",
        "predictions = model.generate(**inputs, max_new_tokens=512)\n",
        "print(processor.decode(predictions[0], skip_special_tokens=True))\n"
      ]
    },
    {
      "cell_type": "code",
      "source": [],
      "metadata": {
        "id": "yEUnDJdlalbO"
      },
      "execution_count": null,
      "outputs": []
    }
  ]
}